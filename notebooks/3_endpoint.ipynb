{
 "cells": [
  {
   "cell_type": "markdown",
   "metadata": {},
   "source": [
    "# Endpoint for Explanations\n",
    "\n",
    "In this notebook, we'll deploy the model explainer to a HTTP endpoint\n",
    "using Amazon SageMaker and visualize the explanations.\n",
    "\n",
    "You can bring also\n",
    "bring your own trained models to explain. See the customizing section for\n",
    "more details.\n",
    "\n",
    "**Note**: When running this notebook on SageMaker Studio, you should make\n",
    "sure the 'SageMaker JumpStart Data Science 1.0' image/kernel is used. You\n",
    "can run all cells or step through them one at a time.\n",
    "\n",
    "<p align=\"center\">\n",
    "  <img src=\"https://github.com/awslabs/sagemaker-explaining-credit-decisions/raw/master/docs/architecture_diagrams/stage_3.png\" width=\"1000px\">\n",
    "</p>"
   ]
  },
  {
   "cell_type": "markdown",
   "metadata": {},
   "source": [
    "We then import a variety of packages that will be used throughout\n",
    "the notebook. One of the most important packages used throughout this\n",
    "solution is the Amazon SageMaker Python SDK (i.e. `import sagemaker`). We\n",
    "also import modules from our own custom package that can be found at\n",
    "`./package`."
   ]
  },
  {
   "cell_type": "code",
   "execution_count": 7,
   "metadata": {},
   "outputs": [],
   "source": [
    "from bokeh.plotting import output_notebook\n",
    "import boto3\n",
    "import sagemaker\n",
    "from pathlib import Path\n",
    "from sagemaker.sklearn import SKLearnModel\n",
    "import sys\n",
    "\n",
    "sys.path.insert(0, '../package')\n",
    "from package import config, utils, visuals\n",
    "from package.data import schemas"
   ]
  },
  {
   "cell_type": "markdown",
   "metadata": {},
   "source": [
    "Up next, we define the current folder, a sagemaker session and a\n",
    "sagemaker client (from `boto3`)."
   ]
  },
  {
   "cell_type": "code",
   "execution_count": 8,
   "metadata": {
    "lines_to_next_cell": 1
   },
   "outputs": [],
   "source": [
    "current_folder = utils.get_current_folder(globals())\n",
    "sagemaker_session = sagemaker.Session()\n",
    "sagemaker_client = boto3.client('sagemaker')"
   ]
  },
  {
   "cell_type": "markdown",
   "metadata": {},
   "source": [
    "We define a couple of functions below to retrive the model data (i.e.\n",
    "`model.tar.gz`) from the most recent trained model (from the last stage)."
   ]
  },
  {
   "cell_type": "code",
   "execution_count": 9,
   "metadata": {
    "lines_to_next_cell": 1
   },
   "outputs": [],
   "source": [
    "def get_latest_training_job(name_contains):\n",
    "    paginator = sagemaker_client.get_paginator('list_training_jobs')\n",
    "    try:\n",
    "        for page in paginator.paginate(NameContains=name_contains, StatusEquals='Completed'):\n",
    "            training_jobs = page['TrainingJobSummaries']\n",
    "            if len(training_jobs):\n",
    "                return training_jobs[0]['TrainingJobName']\n",
    "    except:\n",
    "        raise ValueError(\"Couldn't find any completed training jobs with '{}' in name.\".format(name_contains))\n",
    "\n",
    "\n",
    "def get_model_data(training_job):\n",
    "    response = sagemaker_client.describe_training_job(TrainingJobName=training_job)\n",
    "    assert 'ModelArtifacts' in response, \"Couldn't find ModelArtifacts for training job.\"\n",
    "    return response['ModelArtifacts']['S3ModelArtifacts']"
   ]
  },
  {
   "cell_type": "code",
   "execution_count": 10,
   "metadata": {},
   "outputs": [
    {
     "name": "stdout",
     "output_type": "stream",
     "text": [
      "latest training job: sagemaker-soln-ecd-js-51p2dp-2021-09-29-05-48-42-978\n"
     ]
    }
   ],
   "source": [
    "latest_training_job = get_latest_training_job(config.SOLUTION_PREFIX)\n",
    "print(\"latest training job: {}\".format(latest_training_job))\n",
    "model_data = get_model_data(latest_training_job)"
   ]
  },
  {
   "cell_type": "markdown",
   "metadata": {},
   "source": [
    "Our model explainer endpoint will be named as per the `explainer_name`\n",
    "variable. AWS CloudFormation will delete this endpoint (and endpoint\n",
    "configuration) during stack deletion if the `endpoint_name` is kept as\n",
    "is. You will need to manually delete the endpoint (and endpoint\n",
    "configuration) after stack deletion if you change this."
   ]
  },
  {
   "cell_type": "code",
   "execution_count": 11,
   "metadata": {},
   "outputs": [],
   "source": [
    "explainer_name = \"{}-explainer\".format(config.SOLUTION_PREFIX)"
   ]
  },
  {
   "cell_type": "markdown",
   "metadata": {},
   "source": [
    "We define the model to deploy which includes the explainer logic."
   ]
  },
  {
   "cell_type": "code",
   "execution_count": 12,
   "metadata": {},
   "outputs": [],
   "source": [
    "model = SKLearnModel(\n",
    "    name=explainer_name,\n",
    "    model_data=model_data,\n",
    "    role=config.IAM_ROLE,\n",
    "    entry_point='entry_point.py',\n",
    "    source_dir=str(Path(current_folder, '../containers/model/src').resolve()),\n",
    "    dependencies=[str(Path(current_folder, '../package/package').resolve())],\n",
    "    image_uri=config.ECR_IMAGE,\n",
    "    code_location='s3://' + str(Path(config.S3_BUCKET, config.OUTPUTS_S3_PREFIX))\n",
    ")"
   ]
  },
  {
   "cell_type": "markdown",
   "metadata": {},
   "source": [
    "Calling `deploy` will start a container to host the model.\n",
    "You can expect this step to take approximately 5 minutes."
   ]
  },
  {
   "cell_type": "code",
   "execution_count": 13,
   "metadata": {},
   "outputs": [
    {
     "name": "stdout",
     "output_type": "stream",
     "text": [
      "-----------!"
     ]
    }
   ],
   "source": [
    "from sagemaker.serializers import JSONSerializer\n",
    "from sagemaker.deserializers import JSONDeserializer\n",
    "\n",
    "entities = [\n",
    "    'data',\n",
    "    'features',\n",
    "    'descriptions',\n",
    "    'prediction',\n",
    "    'explanation_shap_values',\n",
    "    'explanation_shap_interaction_values'\n",
    "]\n",
    "\n",
    "explainer = model.deploy(\n",
    "    endpoint_name=explainer_name,\n",
    "    instance_type='ml.c5.xlarge',\n",
    "    initial_instance_count=1,\n",
    "    serializer=JSONSerializer(content_type=\"application/json; entities={}\".format(\",\".join(entities))),\n",
    "    deserializer=JSONDeserializer(),\n",
    "    tags=[{'Key': config.TAG_KEY, 'Value': config.SOLUTION_PREFIX}]\n",
    ")"
   ]
  },
  {
   "cell_type": "markdown",
   "metadata": {},
   "source": [
    "When you're trying to update the model for development purposes, but\n",
    "experiencing issues because the model/endpoint-config/endpoint already\n",
    "exists, you can delete the existing model/endpoint-config/endpoint by\n",
    "uncommenting and running the following commands:"
   ]
  },
  {
   "cell_type": "code",
   "execution_count": 14,
   "metadata": {},
   "outputs": [],
   "source": [
    "# sagemaker_client.delete_endpoint(EndpointName=explainer_name)\n",
    "# sagemaker_client.delete_endpoint_config(EndpointConfigName=explainer_name)\n",
    "# sagemaker_client.delete_model(ModelName=explainer_name)"
   ]
  },
  {
   "cell_type": "markdown",
   "metadata": {},
   "source": [
    "When calling our new endpoint from the notebook, we use a Amazon\n",
    "SageMaker SDK\n",
    "[`Predictor`](https://sagemaker.readthedocs.io/en/stable/predictors.html).\n",
    "A `Predictor` is used to send data to an endpoint (as part of a request),\n",
    "and interpret the response. Creating a `Predictor` does not affect the\n",
    "actual endpoint. Our endpoint expects to receive (and also sends) JSON\n",
    "formatted objects, and uses `content_type` to specify the entities\n",
    "requested (e.g. prediction, features, explanation_shap_values, etc.), so\n",
    "we create a custom `Predictor` called `Explainer`. JSON is used because\n",
    "it is a standard endpoint format and the endpoint response contains a\n",
    "nested data structure."
   ]
  },
  {
   "cell_type": "markdown",
   "metadata": {},
   "source": [
    "## Model Explanations\n",
    "We can demonstrate the output of our new `explainer` endpoint with an\n",
    "example. One option would be to take a sample from our test set, but\n",
    "let's construct a sample by hand. Our example credit application is for\n",
    "6000 EUR and will be put towards buying a used car. You can always come\n",
    "back later and make changes to certain values."
   ]
  },
  {
   "cell_type": "code",
   "execution_count": 15,
   "metadata": {},
   "outputs": [],
   "source": [
    "sample = {\n",
    "    'contact__has_telephone': False,\n",
    "    'credit__amount': 6000,\n",
    "    'credit__coapplicant': 1,\n",
    "    'credit__duration': 36,\n",
    "    'credit__guarantor': 0,\n",
    "    'credit__installment_rate': 3,\n",
    "    'credit__purpose': 'used_car',\n",
    "    'employment__duration': 0,\n",
    "    'employment__permit': 'foreign',\n",
    "    'employment__type': 'professional',\n",
    "    'finance__accounts__checking__balance': 'no_account',\n",
    "    'finance__accounts__savings__balance': 'low',\n",
    "    'finance__credits__other_banks': 0,\n",
    "    'finance__credits__other_stores': 0,\n",
    "    'finance__credits__this_bank': 1,\n",
    "    'finance__other_assets': 'life_insurance',\n",
    "    'finance__repayment_history': 'good',\n",
    "    'personal__num_dependents': 1,\n",
    "    'residence__duration': 4,\n",
    "    'residence__type': 'own'\n",
    "}"
   ]
  },
  {
   "cell_type": "markdown",
   "metadata": {},
   "source": [
    "We can call `explainer.predict` with features (for a credit application)\n",
    "to obtain a prediction and its associated explanation. Using `Explainer`,\n",
    "the features will be converted from a Python list into a JSON string\n",
    "(using the Amazon SageMaker Python SDK's in-built `json_serializer`).\n",
    "Additionally, it will notify to the endpoint that the contents being sent\n",
    "are JSON formatted and the explanation entities are required (via\n",
    "`content_type`), and a JSON formatted response is requested in return\n",
    "(via `accept`). And lastly, the JSON response is converted back into\n",
    "Python objects (using `json_deserializer`).\n",
    "\n",
    "**Caution**: the probability returned by this model has not been\n",
    "calibrated. When the model gives a probability of credit default of 20%,\n",
    "for example, this does not necessarily mean that 20% of applications with\n",
    "a probability of 20% resulted in credit default. Calibration is a useful\n",
    "property in certain circumstances, but is not required in cases where\n",
    "discrimination between cases of default and non-defult is sufficient.\n",
    "[CalibratedClassifierCV](https://scikit-learn.org/stable/modules/generated/sklearn.calibration.CalibratedClassifierCV.html)\n",
    "from\n",
    "[Scikit-learn](https://scikit-learn.org/stable/modules/calibration.html)\n",
    "can be used to calibrate a model. Calibration also has an impact on the\n",
    "explanations. Since the calibration process is typically non-linear, it\n",
    "breaks the additive property of Shapley Values.\n",
    "[`KernelExplainer`](https://shap.readthedocs.io/en/latest/) can handle\n",
    "this case, but is typically much slower to compute the explanations."
   ]
  },
  {
   "cell_type": "code",
   "execution_count": 16,
   "metadata": {},
   "outputs": [
    {
     "name": "stdout",
     "output_type": "stream",
     "text": [
      "Credit default risk: 25.19%\n"
     ]
    }
   ],
   "source": [
    "output = explainer.predict(sample)\n",
    "prediction = output['prediction']\n",
    "print(\"Credit default risk: {:.2%}\".format(prediction))"
   ]
  },
  {
   "cell_type": "markdown",
   "metadata": {},
   "source": [
    "## Visualizing Explanations\n",
    "Although `output` contains all the information required to explain\n",
    "the machine learning model's prediction, looking at long lists of numbers\n",
    "isn't especially helpful. We provide a number of visualization that\n",
    "clearly show which features increase and decrease the risk of credit\n",
    "default for an individual credit application.\n",
    "\n",
    "A waterfall chart can be used to show the cumulative effect of each\n",
    "feature. Starting with the baseline probability for credit defaults (at\n",
    "the bottom of the chart), we can see how each additional feature shifts\n",
    "the probability. Green arrows indicate that the feature <span\n",
    "style=\"color:#69AE35\">*decreased* the predicted credit default\n",
    "risk</span> for the individual credit application. While red arrows\n",
    "indicate that the feature <span style=\"color:#FF5733\">*increased* the\n",
    "predicted credit default risk</span> for the individual credit\n",
    "application. After all features have been considered, we reach the final\n",
    "predicted credit default risk (at the top of the chart).\n",
    "\n",
    "We're using [`bokeh`](https://docs.bokeh.org/en/latest/index.html#) for\n",
    "interactive charts, so let's start by calling `output_notebook` to show the\n",
    "plots inside the notebook."
   ]
  },
  {
   "cell_type": "code",
   "execution_count": 17,
   "metadata": {},
   "outputs": [
    {
     "data": {
      "text/html": [
       "\n",
       "    <div class=\"bk-root\">\n",
       "        <a href=\"https://bokeh.org\" target=\"_blank\" class=\"bk-logo bk-logo-small bk-logo-notebook\"></a>\n",
       "        <span id=\"1002\">Loading BokehJS ...</span>\n",
       "    </div>"
      ]
     },
     "metadata": {},
     "output_type": "display_data"
    },
    {
     "data": {
      "application/javascript": [
       "\n",
       "(function(root) {\n",
       "  function now() {\n",
       "    return new Date();\n",
       "  }\n",
       "\n",
       "  var force = true;\n",
       "\n",
       "  if (typeof root._bokeh_onload_callbacks === \"undefined\" || force === true) {\n",
       "    root._bokeh_onload_callbacks = [];\n",
       "    root._bokeh_is_loading = undefined;\n",
       "  }\n",
       "\n",
       "  var JS_MIME_TYPE = 'application/javascript';\n",
       "  var HTML_MIME_TYPE = 'text/html';\n",
       "  var EXEC_MIME_TYPE = 'application/vnd.bokehjs_exec.v0+json';\n",
       "  var CLASS_NAME = 'output_bokeh rendered_html';\n",
       "\n",
       "  /**\n",
       "   * Render data to the DOM node\n",
       "   */\n",
       "  function render(props, node) {\n",
       "    var script = document.createElement(\"script\");\n",
       "    node.appendChild(script);\n",
       "  }\n",
       "\n",
       "  /**\n",
       "   * Handle when an output is cleared or removed\n",
       "   */\n",
       "  function handleClearOutput(event, handle) {\n",
       "    var cell = handle.cell;\n",
       "\n",
       "    var id = cell.output_area._bokeh_element_id;\n",
       "    var server_id = cell.output_area._bokeh_server_id;\n",
       "    // Clean up Bokeh references\n",
       "    if (id != null && id in Bokeh.index) {\n",
       "      Bokeh.index[id].model.document.clear();\n",
       "      delete Bokeh.index[id];\n",
       "    }\n",
       "\n",
       "    if (server_id !== undefined) {\n",
       "      // Clean up Bokeh references\n",
       "      var cmd = \"from bokeh.io.state import curstate; print(curstate().uuid_to_server['\" + server_id + \"'].get_sessions()[0].document.roots[0]._id)\";\n",
       "      cell.notebook.kernel.execute(cmd, {\n",
       "        iopub: {\n",
       "          output: function(msg) {\n",
       "            var id = msg.content.text.trim();\n",
       "            if (id in Bokeh.index) {\n",
       "              Bokeh.index[id].model.document.clear();\n",
       "              delete Bokeh.index[id];\n",
       "            }\n",
       "          }\n",
       "        }\n",
       "      });\n",
       "      // Destroy server and session\n",
       "      var cmd = \"import bokeh.io.notebook as ion; ion.destroy_server('\" + server_id + \"')\";\n",
       "      cell.notebook.kernel.execute(cmd);\n",
       "    }\n",
       "  }\n",
       "\n",
       "  /**\n",
       "   * Handle when a new output is added\n",
       "   */\n",
       "  function handleAddOutput(event, handle) {\n",
       "    var output_area = handle.output_area;\n",
       "    var output = handle.output;\n",
       "\n",
       "    // limit handleAddOutput to display_data with EXEC_MIME_TYPE content only\n",
       "    if ((output.output_type != \"display_data\") || (!Object.prototype.hasOwnProperty.call(output.data, EXEC_MIME_TYPE))) {\n",
       "      return\n",
       "    }\n",
       "\n",
       "    var toinsert = output_area.element.find(\".\" + CLASS_NAME.split(' ')[0]);\n",
       "\n",
       "    if (output.metadata[EXEC_MIME_TYPE][\"id\"] !== undefined) {\n",
       "      toinsert[toinsert.length - 1].firstChild.textContent = output.data[JS_MIME_TYPE];\n",
       "      // store reference to embed id on output_area\n",
       "      output_area._bokeh_element_id = output.metadata[EXEC_MIME_TYPE][\"id\"];\n",
       "    }\n",
       "    if (output.metadata[EXEC_MIME_TYPE][\"server_id\"] !== undefined) {\n",
       "      var bk_div = document.createElement(\"div\");\n",
       "      bk_div.innerHTML = output.data[HTML_MIME_TYPE];\n",
       "      var script_attrs = bk_div.children[0].attributes;\n",
       "      for (var i = 0; i < script_attrs.length; i++) {\n",
       "        toinsert[toinsert.length - 1].firstChild.setAttribute(script_attrs[i].name, script_attrs[i].value);\n",
       "        toinsert[toinsert.length - 1].firstChild.textContent = bk_div.children[0].textContent\n",
       "      }\n",
       "      // store reference to server id on output_area\n",
       "      output_area._bokeh_server_id = output.metadata[EXEC_MIME_TYPE][\"server_id\"];\n",
       "    }\n",
       "  }\n",
       "\n",
       "  function register_renderer(events, OutputArea) {\n",
       "\n",
       "    function append_mime(data, metadata, element) {\n",
       "      // create a DOM node to render to\n",
       "      var toinsert = this.create_output_subarea(\n",
       "        metadata,\n",
       "        CLASS_NAME,\n",
       "        EXEC_MIME_TYPE\n",
       "      );\n",
       "      this.keyboard_manager.register_events(toinsert);\n",
       "      // Render to node\n",
       "      var props = {data: data, metadata: metadata[EXEC_MIME_TYPE]};\n",
       "      render(props, toinsert[toinsert.length - 1]);\n",
       "      element.append(toinsert);\n",
       "      return toinsert\n",
       "    }\n",
       "\n",
       "    /* Handle when an output is cleared or removed */\n",
       "    events.on('clear_output.CodeCell', handleClearOutput);\n",
       "    events.on('delete.Cell', handleClearOutput);\n",
       "\n",
       "    /* Handle when a new output is added */\n",
       "    events.on('output_added.OutputArea', handleAddOutput);\n",
       "\n",
       "    /**\n",
       "     * Register the mime type and append_mime function with output_area\n",
       "     */\n",
       "    OutputArea.prototype.register_mime_type(EXEC_MIME_TYPE, append_mime, {\n",
       "      /* Is output safe? */\n",
       "      safe: true,\n",
       "      /* Index of renderer in `output_area.display_order` */\n",
       "      index: 0\n",
       "    });\n",
       "  }\n",
       "\n",
       "  // register the mime type if in Jupyter Notebook environment and previously unregistered\n",
       "  if (root.Jupyter !== undefined) {\n",
       "    var events = require('base/js/events');\n",
       "    var OutputArea = require('notebook/js/outputarea').OutputArea;\n",
       "\n",
       "    if (OutputArea.prototype.mime_types().indexOf(EXEC_MIME_TYPE) == -1) {\n",
       "      register_renderer(events, OutputArea);\n",
       "    }\n",
       "  }\n",
       "\n",
       "  \n",
       "  if (typeof (root._bokeh_timeout) === \"undefined\" || force === true) {\n",
       "    root._bokeh_timeout = Date.now() + 5000;\n",
       "    root._bokeh_failed_load = false;\n",
       "  }\n",
       "\n",
       "  var NB_LOAD_WARNING = {'data': {'text/html':\n",
       "     \"<div style='background-color: #fdd'>\\n\"+\n",
       "     \"<p>\\n\"+\n",
       "     \"BokehJS does not appear to have successfully loaded. If loading BokehJS from CDN, this \\n\"+\n",
       "     \"may be due to a slow or bad network connection. Possible fixes:\\n\"+\n",
       "     \"</p>\\n\"+\n",
       "     \"<ul>\\n\"+\n",
       "     \"<li>re-rerun `output_notebook()` to attempt to load from CDN again, or</li>\\n\"+\n",
       "     \"<li>use INLINE resources instead, as so:</li>\\n\"+\n",
       "     \"</ul>\\n\"+\n",
       "     \"<code>\\n\"+\n",
       "     \"from bokeh.resources import INLINE\\n\"+\n",
       "     \"output_notebook(resources=INLINE)\\n\"+\n",
       "     \"</code>\\n\"+\n",
       "     \"</div>\"}};\n",
       "\n",
       "  function display_loaded() {\n",
       "    var el = document.getElementById(\"1002\");\n",
       "    if (el != null) {\n",
       "      el.textContent = \"BokehJS is loading...\";\n",
       "    }\n",
       "    if (root.Bokeh !== undefined) {\n",
       "      if (el != null) {\n",
       "        el.textContent = \"BokehJS \" + root.Bokeh.version + \" successfully loaded.\";\n",
       "      }\n",
       "    } else if (Date.now() < root._bokeh_timeout) {\n",
       "      setTimeout(display_loaded, 100)\n",
       "    }\n",
       "  }\n",
       "\n",
       "\n",
       "  function run_callbacks() {\n",
       "    try {\n",
       "      root._bokeh_onload_callbacks.forEach(function(callback) {\n",
       "        if (callback != null)\n",
       "          callback();\n",
       "      });\n",
       "    } finally {\n",
       "      delete root._bokeh_onload_callbacks\n",
       "    }\n",
       "    console.debug(\"Bokeh: all callbacks have finished\");\n",
       "  }\n",
       "\n",
       "  function load_libs(css_urls, js_urls, callback) {\n",
       "    if (css_urls == null) css_urls = [];\n",
       "    if (js_urls == null) js_urls = [];\n",
       "\n",
       "    root._bokeh_onload_callbacks.push(callback);\n",
       "    if (root._bokeh_is_loading > 0) {\n",
       "      console.debug(\"Bokeh: BokehJS is being loaded, scheduling callback at\", now());\n",
       "      return null;\n",
       "    }\n",
       "    if (js_urls == null || js_urls.length === 0) {\n",
       "      run_callbacks();\n",
       "      return null;\n",
       "    }\n",
       "    console.debug(\"Bokeh: BokehJS not loaded, scheduling load and callback at\", now());\n",
       "    root._bokeh_is_loading = css_urls.length + js_urls.length;\n",
       "\n",
       "    function on_load() {\n",
       "      root._bokeh_is_loading--;\n",
       "      if (root._bokeh_is_loading === 0) {\n",
       "        console.debug(\"Bokeh: all BokehJS libraries/stylesheets loaded\");\n",
       "        run_callbacks()\n",
       "      }\n",
       "    }\n",
       "\n",
       "    function on_error(url) {\n",
       "      console.error(\"failed to load \" + url);\n",
       "    }\n",
       "\n",
       "    for (let i = 0; i < css_urls.length; i++) {\n",
       "      const url = css_urls[i];\n",
       "      const element = document.createElement(\"link\");\n",
       "      element.onload = on_load;\n",
       "      element.onerror = on_error.bind(null, url);\n",
       "      element.rel = \"stylesheet\";\n",
       "      element.type = \"text/css\";\n",
       "      element.href = url;\n",
       "      console.debug(\"Bokeh: injecting link tag for BokehJS stylesheet: \", url);\n",
       "      document.body.appendChild(element);\n",
       "    }\n",
       "\n",
       "    const hashes = {\"https://cdn.bokeh.org/bokeh/release/bokeh-2.3.3.min.js\": \"dM3QQsP+wXdHg42wTqW85BjZQdLNNIXqlPw/BgKoExPmTG7ZLML4EGqLMfqHT6ON\", \"https://cdn.bokeh.org/bokeh/release/bokeh-tables-2.3.3.min.js\": \"8x57I4YuIfu8XyZfFo0XVr2WAT8EK4rh/uDe3wF7YuW2FNUSNEpJbsPaB1nJ2fz2\", \"https://cdn.bokeh.org/bokeh/release/bokeh-widgets-2.3.3.min.js\": \"3QTqdz9LyAm2i0sG5XTePsHec3UHWwVsrOL68SYRoAXsafvfAyqtQ+h440+qIBhS\"};\n",
       "\n",
       "    for (let i = 0; i < js_urls.length; i++) {\n",
       "      const url = js_urls[i];\n",
       "      const element = document.createElement('script');\n",
       "      element.onload = on_load;\n",
       "      element.onerror = on_error.bind(null, url);\n",
       "      element.async = false;\n",
       "      element.src = url;\n",
       "      if (url in hashes) {\n",
       "        element.crossOrigin = \"anonymous\";\n",
       "        element.integrity = \"sha384-\" + hashes[url];\n",
       "      }\n",
       "      console.debug(\"Bokeh: injecting script tag for BokehJS library: \", url);\n",
       "      document.head.appendChild(element);\n",
       "    }\n",
       "  };\n",
       "\n",
       "  function inject_raw_css(css) {\n",
       "    const element = document.createElement(\"style\");\n",
       "    element.appendChild(document.createTextNode(css));\n",
       "    document.body.appendChild(element);\n",
       "  }\n",
       "\n",
       "  \n",
       "  var js_urls = [\"https://cdn.bokeh.org/bokeh/release/bokeh-2.3.3.min.js\", \"https://cdn.bokeh.org/bokeh/release/bokeh-widgets-2.3.3.min.js\", \"https://cdn.bokeh.org/bokeh/release/bokeh-tables-2.3.3.min.js\"];\n",
       "  var css_urls = [];\n",
       "  \n",
       "\n",
       "  var inline_js = [\n",
       "    function(Bokeh) {\n",
       "      Bokeh.set_log_level(\"info\");\n",
       "    },\n",
       "    function(Bokeh) {\n",
       "    \n",
       "    \n",
       "    }\n",
       "  ];\n",
       "\n",
       "  function run_inline_js() {\n",
       "    \n",
       "    if (root.Bokeh !== undefined || force === true) {\n",
       "      \n",
       "    for (var i = 0; i < inline_js.length; i++) {\n",
       "      inline_js[i].call(root, root.Bokeh);\n",
       "    }\n",
       "    if (force === true) {\n",
       "        display_loaded();\n",
       "      }} else if (Date.now() < root._bokeh_timeout) {\n",
       "      setTimeout(run_inline_js, 100);\n",
       "    } else if (!root._bokeh_failed_load) {\n",
       "      console.log(\"Bokeh: BokehJS failed to load within specified timeout.\");\n",
       "      root._bokeh_failed_load = true;\n",
       "    } else if (force !== true) {\n",
       "      var cell = $(document.getElementById(\"1002\")).parents('.cell').data().cell;\n",
       "      cell.output_area.append_execute_result(NB_LOAD_WARNING)\n",
       "    }\n",
       "\n",
       "  }\n",
       "\n",
       "  if (root._bokeh_is_loading === 0) {\n",
       "    console.debug(\"Bokeh: BokehJS loaded, going straight to plotting\");\n",
       "    run_inline_js();\n",
       "  } else {\n",
       "    load_libs(css_urls, js_urls, function() {\n",
       "      console.debug(\"Bokeh: BokehJS plotting callback run at\", now());\n",
       "      run_inline_js();\n",
       "    });\n",
       "  }\n",
       "}(window));"
      ],
      "application/vnd.bokehjs_load.v0+json": "\n(function(root) {\n  function now() {\n    return new Date();\n  }\n\n  var force = true;\n\n  if (typeof root._bokeh_onload_callbacks === \"undefined\" || force === true) {\n    root._bokeh_onload_callbacks = [];\n    root._bokeh_is_loading = undefined;\n  }\n\n  \n\n  \n  if (typeof (root._bokeh_timeout) === \"undefined\" || force === true) {\n    root._bokeh_timeout = Date.now() + 5000;\n    root._bokeh_failed_load = false;\n  }\n\n  var NB_LOAD_WARNING = {'data': {'text/html':\n     \"<div style='background-color: #fdd'>\\n\"+\n     \"<p>\\n\"+\n     \"BokehJS does not appear to have successfully loaded. If loading BokehJS from CDN, this \\n\"+\n     \"may be due to a slow or bad network connection. Possible fixes:\\n\"+\n     \"</p>\\n\"+\n     \"<ul>\\n\"+\n     \"<li>re-rerun `output_notebook()` to attempt to load from CDN again, or</li>\\n\"+\n     \"<li>use INLINE resources instead, as so:</li>\\n\"+\n     \"</ul>\\n\"+\n     \"<code>\\n\"+\n     \"from bokeh.resources import INLINE\\n\"+\n     \"output_notebook(resources=INLINE)\\n\"+\n     \"</code>\\n\"+\n     \"</div>\"}};\n\n  function display_loaded() {\n    var el = document.getElementById(\"1002\");\n    if (el != null) {\n      el.textContent = \"BokehJS is loading...\";\n    }\n    if (root.Bokeh !== undefined) {\n      if (el != null) {\n        el.textContent = \"BokehJS \" + root.Bokeh.version + \" successfully loaded.\";\n      }\n    } else if (Date.now() < root._bokeh_timeout) {\n      setTimeout(display_loaded, 100)\n    }\n  }\n\n\n  function run_callbacks() {\n    try {\n      root._bokeh_onload_callbacks.forEach(function(callback) {\n        if (callback != null)\n          callback();\n      });\n    } finally {\n      delete root._bokeh_onload_callbacks\n    }\n    console.debug(\"Bokeh: all callbacks have finished\");\n  }\n\n  function load_libs(css_urls, js_urls, callback) {\n    if (css_urls == null) css_urls = [];\n    if (js_urls == null) js_urls = [];\n\n    root._bokeh_onload_callbacks.push(callback);\n    if (root._bokeh_is_loading > 0) {\n      console.debug(\"Bokeh: BokehJS is being loaded, scheduling callback at\", now());\n      return null;\n    }\n    if (js_urls == null || js_urls.length === 0) {\n      run_callbacks();\n      return null;\n    }\n    console.debug(\"Bokeh: BokehJS not loaded, scheduling load and callback at\", now());\n    root._bokeh_is_loading = css_urls.length + js_urls.length;\n\n    function on_load() {\n      root._bokeh_is_loading--;\n      if (root._bokeh_is_loading === 0) {\n        console.debug(\"Bokeh: all BokehJS libraries/stylesheets loaded\");\n        run_callbacks()\n      }\n    }\n\n    function on_error(url) {\n      console.error(\"failed to load \" + url);\n    }\n\n    for (let i = 0; i < css_urls.length; i++) {\n      const url = css_urls[i];\n      const element = document.createElement(\"link\");\n      element.onload = on_load;\n      element.onerror = on_error.bind(null, url);\n      element.rel = \"stylesheet\";\n      element.type = \"text/css\";\n      element.href = url;\n      console.debug(\"Bokeh: injecting link tag for BokehJS stylesheet: \", url);\n      document.body.appendChild(element);\n    }\n\n    const hashes = {\"https://cdn.bokeh.org/bokeh/release/bokeh-2.3.3.min.js\": \"dM3QQsP+wXdHg42wTqW85BjZQdLNNIXqlPw/BgKoExPmTG7ZLML4EGqLMfqHT6ON\", \"https://cdn.bokeh.org/bokeh/release/bokeh-tables-2.3.3.min.js\": \"8x57I4YuIfu8XyZfFo0XVr2WAT8EK4rh/uDe3wF7YuW2FNUSNEpJbsPaB1nJ2fz2\", \"https://cdn.bokeh.org/bokeh/release/bokeh-widgets-2.3.3.min.js\": \"3QTqdz9LyAm2i0sG5XTePsHec3UHWwVsrOL68SYRoAXsafvfAyqtQ+h440+qIBhS\"};\n\n    for (let i = 0; i < js_urls.length; i++) {\n      const url = js_urls[i];\n      const element = document.createElement('script');\n      element.onload = on_load;\n      element.onerror = on_error.bind(null, url);\n      element.async = false;\n      element.src = url;\n      if (url in hashes) {\n        element.crossOrigin = \"anonymous\";\n        element.integrity = \"sha384-\" + hashes[url];\n      }\n      console.debug(\"Bokeh: injecting script tag for BokehJS library: \", url);\n      document.head.appendChild(element);\n    }\n  };\n\n  function inject_raw_css(css) {\n    const element = document.createElement(\"style\");\n    element.appendChild(document.createTextNode(css));\n    document.body.appendChild(element);\n  }\n\n  \n  var js_urls = [\"https://cdn.bokeh.org/bokeh/release/bokeh-2.3.3.min.js\", \"https://cdn.bokeh.org/bokeh/release/bokeh-widgets-2.3.3.min.js\", \"https://cdn.bokeh.org/bokeh/release/bokeh-tables-2.3.3.min.js\"];\n  var css_urls = [];\n  \n\n  var inline_js = [\n    function(Bokeh) {\n      Bokeh.set_log_level(\"info\");\n    },\n    function(Bokeh) {\n    \n    \n    }\n  ];\n\n  function run_inline_js() {\n    \n    if (root.Bokeh !== undefined || force === true) {\n      \n    for (var i = 0; i < inline_js.length; i++) {\n      inline_js[i].call(root, root.Bokeh);\n    }\n    if (force === true) {\n        display_loaded();\n      }} else if (Date.now() < root._bokeh_timeout) {\n      setTimeout(run_inline_js, 100);\n    } else if (!root._bokeh_failed_load) {\n      console.log(\"Bokeh: BokehJS failed to load within specified timeout.\");\n      root._bokeh_failed_load = true;\n    } else if (force !== true) {\n      var cell = $(document.getElementById(\"1002\")).parents('.cell').data().cell;\n      cell.output_area.append_execute_result(NB_LOAD_WARNING)\n    }\n\n  }\n\n  if (root._bokeh_is_loading === 0) {\n    console.debug(\"Bokeh: BokehJS loaded, going straight to plotting\");\n    run_inline_js();\n  } else {\n    load_libs(css_urls, js_urls, function() {\n      console.debug(\"Bokeh: BokehJS plotting callback run at\", now());\n      run_inline_js();\n    });\n  }\n}(window));"
     },
     "metadata": {},
     "output_type": "display_data"
    }
   ],
   "source": [
    "output_notebook()"
   ]
  },
  {
   "cell_type": "markdown",
   "metadata": {},
   "source": [
    "### Summary Explanation\n",
    "As mentioned earlier on in this notebook, our features can be grouped\n",
    "together into categories. We can extract the top level category for each\n",
    "feature, by extracting the start of the feature name before the level\n",
    "seperator. We use two consecutive underscores (`__`) as our level\n",
    "separator. Once we have the category for each feature, we can calculate\n",
    "the the overall effect for each category. All of this is performed in\n",
    "`summarize_explanation`."
   ]
  },
  {
   "cell_type": "code",
   "execution_count": 18,
   "metadata": {},
   "outputs": [],
   "source": [
    "explanation_summary = visuals.summary_explanation(output)"
   ]
  },
  {
   "cell_type": "markdown",
   "metadata": {},
   "source": [
    "We then show the associated waterfall chart."
   ]
  },
  {
   "cell_type": "code",
   "execution_count": 19,
   "metadata": {},
   "outputs": [
    {
     "data": {
      "text/html": [
       "\n",
       "\n",
       "\n",
       "\n",
       "\n",
       "\n",
       "  <div class=\"bk-root\" id=\"3c87ba9c-85d6-45ad-885a-f8601a75044d\" data-root-id=\"1004\"></div>\n"
      ]
     },
     "metadata": {},
     "output_type": "display_data"
    },
    {
     "data": {
      "application/javascript": [
       "(function(root) {\n",
       "  function embed_document(root) {\n",
       "    \n",
       "  var docs_json = {\"f86f08f2-063f-4111-b257-076b45663f95\":{\"defs\":[],\"roots\":{\"references\":[{\"attributes\":{\"above\":[{\"id\":\"1027\"},{\"id\":\"1033\"},{\"id\":\"1049\"}],\"below\":[{\"id\":\"1013\"},{\"id\":\"1031\"}],\"center\":[{\"id\":\"1016\"},{\"id\":\"1019\"},{\"id\":\"1030\"},{\"id\":\"1032\"}],\"extra_x_ranges\":{\"probability\":{\"id\":\"1024\"}},\"frame_height\":150,\"frame_width\":500,\"renderers\":[{\"id\":\"1037\"},{\"id\":\"1042\"},{\"id\":\"1047\"}],\"right\":[{\"id\":\"1017\"}],\"title\":{\"id\":\"1051\"},\"toolbar\":{\"id\":\"1021\"},\"toolbar_location\":null,\"x_range\":{\"id\":\"1024\"},\"x_scale\":{\"id\":\"1009\"},\"y_range\":{\"id\":\"1007\"},\"y_scale\":{\"id\":\"1011\"}},\"id\":\"1004\",\"subtype\":\"Figure\",\"type\":\"Plot\"},{\"attributes\":{\"align\":\"center\",\"text\":\"Credit Default Risk Score (%)\",\"text_font_size\":\"10pt\"},\"id\":\"1049\",\"type\":\"Title\"},{\"attributes\":{\"dimension\":\"height\",\"level\":\"underlay\",\"line_color\":\"#69AE35\",\"line_dash\":[2,4],\"location\":0.2518699215241796},\"id\":\"1032\",\"type\":\"Span\"},{\"attributes\":{\"offset\":299.79084475861464,\"text\":\"25.19% predicted\",\"text_color\":\"#69AE35\",\"text_font_size\":\"10pt\",\"text_font_style\":\"italic\"},\"id\":\"1033\",\"type\":\"Title\"},{\"attributes\":{\"axis\":{\"id\":\"1017\"},\"dimension\":1,\"ticker\":null},\"id\":\"1019\",\"type\":\"Grid\"},{\"attributes\":{\"fill_alpha\":{\"value\":0.1},\"fill_color\":{\"field\":\"segment_color\"},\"line_alpha\":{\"value\":0.1},\"line_color\":{\"field\":\"segment_color\"},\"marker\":{\"value\":\"diamond\"},\"size\":{\"value\":16},\"x\":{\"field\":\"segment_end_proba\"},\"y\":{\"field\":\"name\"}},\"id\":\"1041\",\"type\":\"Scatter\"},{\"attributes\":{\"source\":{\"id\":\"1003\"}},\"id\":\"1048\",\"type\":\"CDSView\"},{\"attributes\":{},\"id\":\"1018\",\"type\":\"CategoricalTicker\"},{\"attributes\":{},\"id\":\"1009\",\"type\":\"LogScale\"},{\"attributes\":{},\"id\":\"1053\",\"type\":\"AllLabels\"},{\"attributes\":{\"desired_num_ticks\":7},\"id\":\"1029\",\"type\":\"LogTicker\"},{\"attributes\":{},\"id\":\"1058\",\"type\":\"AllLabels\"},{\"attributes\":{\"data_source\":{\"id\":\"1003\"},\"glyph\":{\"id\":\"1045\"},\"hover_glyph\":null,\"muted_glyph\":null,\"nonselection_glyph\":{\"id\":\"1046\"},\"view\":{\"id\":\"1048\"}},\"id\":\"1047\",\"type\":\"GlyphRenderer\"},{\"attributes\":{\"data_source\":{\"id\":\"1003\"},\"glyph\":{\"id\":\"1040\"},\"hover_glyph\":null,\"muted_glyph\":null,\"nonselection_glyph\":{\"id\":\"1041\"},\"view\":{\"id\":\"1043\"}},\"id\":\"1042\",\"type\":\"GlyphRenderer\"},{\"attributes\":{\"data\":{\"descriptions\":[\"All 'finance' features combined.\",\"All 'employment' features combined.\",\"All 'credit' features combined.\",\"All 'residence' features combined.\",\"All 'contact' features combined.\",\"All 'personal' features combined.\"],\"name\":[\"finance\",\"employment\",\"credit\",\"residence\",\"contact\",\"personal\"],\"segment_color\":[\"#69AE35\",\"#FF5733\",\"#FF5733\",\"#FF5733\",\"#69AE35\",\"#69AE35\"],\"segment_end_proba\":{\"__ndarray__\":\"TMyzhZ1byj/KzlzDmNjNP50wZviWAdA/TbfyBKMe0D9Nt/IEox7QP0238gSjHtA/\",\"dtype\":\"float64\",\"order\":\"little\",\"shape\":[6]},\"segment_start_proba\":{\"__ndarray__\":\"DZOLv8sV0j9MzLOFnVvKP8rOXMOY2M0/njBm+JYB0D9Nt/IEox7QP0238gSjHtA/\",\"dtype\":\"float64\",\"order\":\"little\",\"shape\":[6]},\"shap_value\":{\"__ndarray__\":\"Qmb4VWXA2r92VVDC62DEP1KDo9jEprc/Hgros3BQgz8AAAAAAAAAAAAAAAAAAAAA\",\"dtype\":\"float64\",\"order\":\"little\",\"shape\":[6]}},\"selected\":{\"id\":\"1060\"},\"selection_policy\":{\"id\":\"1059\"}},\"id\":\"1003\",\"type\":\"ColumnDataSource\"},{\"attributes\":{},\"id\":\"1056\",\"type\":\"CategoricalTickFormatter\"},{\"attributes\":{\"offset\":450.0000000000001,\"text\":\"28.26% baseline\",\"text_color\":\"grey\",\"text_font_size\":\"10pt\",\"text_font_style\":\"italic\"},\"id\":\"1031\",\"type\":\"Title\"},{\"attributes\":{},\"id\":\"1055\",\"type\":\"AllLabels\"},{\"attributes\":{\"end\":0.2932919568903385,\"start\":0.1975084092871016},\"id\":\"1024\",\"type\":\"Range1d\"},{\"attributes\":{\"source\":{\"id\":\"1003\"}},\"id\":\"1043\",\"type\":\"CDSView\"},{\"attributes\":{\"fill_color\":{\"field\":\"segment_color\"},\"line_color\":{\"field\":\"segment_color\"},\"marker\":{\"value\":\"diamond\"},\"size\":{\"value\":16},\"x\":{\"field\":\"segment_end_proba\"},\"y\":{\"field\":\"name\"}},\"id\":\"1040\",\"type\":\"Scatter\"},{\"attributes\":{\"dimension\":\"height\",\"level\":\"underlay\",\"line_color\":\"grey\",\"line_dash\":[2,4],\"location\":0.2825803156431882},\"id\":\"1030\",\"type\":\"Span\"},{\"attributes\":{},\"id\":\"1059\",\"type\":\"UnionRenderers\"},{\"attributes\":{\"format\":\"0.0 %\"},\"id\":\"1023\",\"type\":\"NumeralTickFormatter\"},{\"attributes\":{\"axis_label_text_font_size\":\"10pt\",\"axis_line_color\":\"white\",\"formatter\":{\"id\":\"1023\"},\"major_label_policy\":{\"id\":\"1053\"},\"ticker\":{\"id\":\"1014\"}},\"id\":\"1013\",\"type\":\"LogAxis\"},{\"attributes\":{\"fill_alpha\":{\"value\":0.1},\"fill_color\":{\"value\":\"white\"},\"line_alpha\":{\"value\":0.1},\"line_color\":{\"value\":\"white\"},\"marker\":{\"value\":\"diamond\"},\"size\":{\"value\":16},\"x\":{\"field\":\"segment_start_proba\"},\"y\":{\"field\":\"name\"}},\"id\":\"1046\",\"type\":\"Scatter\"},{\"attributes\":{\"active_multi\":null,\"tools\":[{\"id\":\"1020\"}]},\"id\":\"1021\",\"type\":\"Toolbar\"},{\"attributes\":{},\"id\":\"1051\",\"type\":\"Title\"},{\"attributes\":{\"fill_color\":{\"value\":\"white\"},\"line_color\":{\"value\":\"white\"},\"marker\":{\"value\":\"diamond\"},\"size\":{\"value\":16},\"x\":{\"field\":\"segment_start_proba\"},\"y\":{\"field\":\"name\"}},\"id\":\"1045\",\"type\":\"Scatter\"},{\"attributes\":{\"callback\":null,\"tooltips\":[[\"name\",\"@name\"],[\"description\",\"@description\"]]},\"id\":\"1020\",\"type\":\"HoverTool\"},{\"attributes\":{\"line_color\":{\"field\":\"segment_color\"},\"line_width\":{\"value\":18},\"x0\":{\"field\":\"segment_start_proba\"},\"x1\":{\"field\":\"segment_end_proba\"},\"y0\":{\"field\":\"name\"},\"y1\":{\"field\":\"name\"}},\"id\":\"1035\",\"type\":\"Segment\"},{\"attributes\":{},\"id\":\"1060\",\"type\":\"Selection\"},{\"attributes\":{\"source\":{\"id\":\"1003\"}},\"id\":\"1038\",\"type\":\"CDSView\"},{\"attributes\":{\"desired_num_ticks\":7,\"num_minor_ticks\":10},\"id\":\"1014\",\"type\":\"LogTicker\"},{\"attributes\":{\"axis_label_text_font_size\":\"10pt\",\"axis_line_color\":\"white\",\"formatter\":{\"id\":\"1023\"},\"major_label_policy\":{\"id\":\"1055\"},\"ticker\":{\"id\":\"1029\"},\"x_range_name\":\"probability\"},\"id\":\"1027\",\"type\":\"LogAxis\"},{\"attributes\":{\"data_source\":{\"id\":\"1003\"},\"glyph\":{\"id\":\"1035\"},\"hover_glyph\":null,\"muted_glyph\":null,\"nonselection_glyph\":{\"id\":\"1036\"},\"view\":{\"id\":\"1038\"}},\"id\":\"1037\",\"type\":\"GlyphRenderer\"},{\"attributes\":{},\"id\":\"1011\",\"type\":\"CategoricalScale\"},{\"attributes\":{\"factors\":[\"finance\",\"employment\",\"credit\",\"residence\",\"contact\",\"personal\"]},\"id\":\"1007\",\"type\":\"FactorRange\"},{\"attributes\":{\"line_alpha\":{\"value\":0.1},\"line_color\":{\"field\":\"segment_color\"},\"line_width\":{\"value\":18},\"x0\":{\"field\":\"segment_start_proba\"},\"x1\":{\"field\":\"segment_end_proba\"},\"y0\":{\"field\":\"name\"},\"y1\":{\"field\":\"name\"}},\"id\":\"1036\",\"type\":\"Segment\"},{\"attributes\":{\"axis\":{\"id\":\"1013\"},\"ticker\":null},\"id\":\"1016\",\"type\":\"Grid\"},{\"attributes\":{\"axis_line_color\":\"white\",\"formatter\":{\"id\":\"1056\"},\"major_label_policy\":{\"id\":\"1058\"},\"major_label_text_font_size\":\"10pt\",\"ticker\":{\"id\":\"1018\"}},\"id\":\"1017\",\"type\":\"CategoricalAxis\"}],\"root_ids\":[\"1004\"]},\"title\":\"Bokeh Application\",\"version\":\"2.3.3\"}};\n",
       "  var render_items = [{\"docid\":\"f86f08f2-063f-4111-b257-076b45663f95\",\"root_ids\":[\"1004\"],\"roots\":{\"1004\":\"3c87ba9c-85d6-45ad-885a-f8601a75044d\"}}];\n",
       "  root.Bokeh.embed.embed_items_notebook(docs_json, render_items);\n",
       "\n",
       "  }\n",
       "  if (root.Bokeh !== undefined) {\n",
       "    embed_document(root);\n",
       "  } else {\n",
       "    var attempts = 0;\n",
       "    var timer = setInterval(function(root) {\n",
       "      if (root.Bokeh !== undefined) {\n",
       "        clearInterval(timer);\n",
       "        embed_document(root);\n",
       "      } else {\n",
       "        attempts++;\n",
       "        if (attempts > 100) {\n",
       "          clearInterval(timer);\n",
       "          console.log(\"Bokeh: ERROR: Unable to run BokehJS code because BokehJS library is missing\");\n",
       "        }\n",
       "      }\n",
       "    }, 10, root)\n",
       "  }\n",
       "})(window);"
      ],
      "application/vnd.bokehjs_exec.v0+json": ""
     },
     "metadata": {
      "application/vnd.bokehjs_exec.v0+json": {
       "id": "1004"
      }
     },
     "output_type": "display_data"
    }
   ],
   "source": [
    "x_axis_label = 'Credit Default Risk Score (%)'\n",
    "summary_waterfall = visuals.WaterfallChart(\n",
    "    baseline=explanation_summary['expected_value'],\n",
    "    shap_values=explanation_summary['shap_values'],\n",
    "    names=explanation_summary['feature_names'],\n",
    "    descriptions=explanation_summary['feature_descriptions'],\n",
    "    max_features=10,\n",
    "    x_axis_label=x_axis_label,\n",
    ")\n",
    "summary_waterfall.show()"
   ]
  },
  {
   "cell_type": "markdown",
   "metadata": {},
   "source": [
    "We can see from the summary waterfall chart above that features related\n",
    "to finance have the largest combined effect on the credit default risk.\n",
    "Although features realted to finance reduce the credit default risk, the\n",
    "features related to employment bring the risk back up again to a certain\n",
    "degree."
   ]
  },
  {
   "cell_type": "markdown",
   "metadata": {},
   "source": [
    "### Detailed Explanation\n",
    "After examining the high level explanation, we can drill down into the\n",
    "individual features that contribute to the credit default risk score."
   ]
  },
  {
   "cell_type": "code",
   "execution_count": 20,
   "metadata": {},
   "outputs": [],
   "source": [
    "explanation = visuals.detailed_explanation(output)"
   ]
  },
  {
   "cell_type": "code",
   "execution_count": 21,
   "metadata": {},
   "outputs": [
    {
     "data": {
      "text/html": [
       "\n",
       "\n",
       "\n",
       "\n",
       "\n",
       "\n",
       "  <div class=\"bk-root\" id=\"565d3e05-7a7d-4844-b597-673b5e2e375b\" data-root-id=\"1117\"></div>\n"
      ]
     },
     "metadata": {},
     "output_type": "display_data"
    },
    {
     "data": {
      "application/javascript": [
       "(function(root) {\n",
       "  function embed_document(root) {\n",
       "    \n",
       "  var docs_json = {\"2db3d5fd-e10c-4eb6-9625-42ca2b148bd2\":{\"defs\":[],\"roots\":{\"references\":[{\"attributes\":{\"above\":[{\"id\":\"1140\"},{\"id\":\"1146\"},{\"id\":\"1162\"}],\"below\":[{\"id\":\"1126\"},{\"id\":\"1144\"}],\"center\":[{\"id\":\"1129\"},{\"id\":\"1132\"},{\"id\":\"1143\"},{\"id\":\"1145\"}],\"extra_x_ranges\":{\"probability\":{\"id\":\"1137\"}},\"frame_height\":275,\"frame_width\":500,\"renderers\":[{\"id\":\"1150\"},{\"id\":\"1155\"},{\"id\":\"1160\"}],\"right\":[{\"id\":\"1130\"}],\"title\":{\"id\":\"1175\"},\"toolbar\":{\"id\":\"1134\"},\"toolbar_location\":null,\"x_range\":{\"id\":\"1137\"},\"x_scale\":{\"id\":\"1122\"},\"y_range\":{\"id\":\"1120\"},\"y_scale\":{\"id\":\"1124\"}},\"id\":\"1117\",\"subtype\":\"Figure\",\"type\":\"Plot\"},{\"attributes\":{\"dimension\":\"height\",\"level\":\"underlay\",\"line_color\":\"grey\",\"line_dash\":[2,4],\"location\":0.2825803156431882},\"id\":\"1143\",\"type\":\"Span\"},{\"attributes\":{},\"id\":\"1183\",\"type\":\"UnionRenderers\"},{\"attributes\":{\"fill_color\":{\"value\":\"white\"},\"line_color\":{\"value\":\"white\"},\"marker\":{\"value\":\"diamond\"},\"size\":{\"value\":16},\"x\":{\"field\":\"segment_start_proba\"},\"y\":{\"field\":\"name\"}},\"id\":\"1158\",\"type\":\"Scatter\"},{\"attributes\":{\"dimension\":\"height\",\"level\":\"underlay\",\"line_color\":\"#69AE35\",\"line_dash\":[2,4],\"location\":0.2518699215241796},\"id\":\"1145\",\"type\":\"Span\"},{\"attributes\":{\"factors\":[\"finance__accounts__checking__balance__no_account = 1.0\",\"credit__duration = 36.0\",\"employment__duration = 0.0\",\"finance__accounts__savings__balance__low = 1.0\",\"finance__repayment_history__very_poor = 0.0\",\"finance__accounts__checking__balance__negative = 0.0\",\"credit__purpose__used_car = 1.0\",\"finance__credits__other_banks = 0.0\",\"credit__purpose__electronics = 0.0\",\"credit__purpose__new_car = 0.0\",\"other_features\"]},\"id\":\"1120\",\"type\":\"FactorRange\"},{\"attributes\":{\"fill_alpha\":{\"value\":0.1},\"fill_color\":{\"value\":\"white\"},\"line_alpha\":{\"value\":0.1},\"line_color\":{\"value\":\"white\"},\"marker\":{\"value\":\"diamond\"},\"size\":{\"value\":16},\"x\":{\"field\":\"segment_start_proba\"},\"y\":{\"field\":\"name\"}},\"id\":\"1159\",\"type\":\"Scatter\"},{\"attributes\":{\"offset\":432.37244983303987,\"text\":\"28.26% baseline\",\"text_color\":\"grey\",\"text_font_size\":\"10pt\",\"text_font_style\":\"italic\"},\"id\":\"1144\",\"type\":\"Title\"},{\"attributes\":{\"data\":{\"descriptions\":[\"Customer's checking account balance is 'no_account' if value is 1.0.\",\"Amount of time the credit is requested for (in months).\",\"Amount of time the customer has been employed at their current employer (in years).\",\"Customer's savings account balance is 'low' if value is 1.0.\",\"Quality of the customer's repayment history is 'very_poor' if value is 1.0.\",\"Customer's checking account balance is 'negative' if value is 1.0.\",\"Customer's reason for requiring credit is 'used_car' if value is 1.0.\",\"Count of credits the customer has at other banks.\",\"Customer's reason for requiring credit is 'electronics' if value is 1.0.\",\"Customer's reason for requiring credit is 'new_car' if value is 1.0.\",\"All other features combined.\"],\"name\":[\"finance__accounts__checking__balance__no_account = 1.0\",\"credit__duration = 36.0\",\"employment__duration = 0.0\",\"finance__accounts__savings__balance__low = 1.0\",\"finance__repayment_history__very_poor = 0.0\",\"finance__accounts__checking__balance__negative = 0.0\",\"credit__purpose__used_car = 1.0\",\"finance__credits__other_banks = 0.0\",\"credit__purpose__electronics = 0.0\",\"credit__purpose__new_car = 0.0\",\"other_features\"],\"segment_color\":[\"#69AE35\",\"#FF5733\",\"#FF5733\",\"#FF5733\",\"#FF5733\",\"#69AE35\",\"#69AE35\",\"#69AE35\",\"#FF5733\",\"#69AE35\",\"#FF5733\"],\"segment_end_proba\":{\"__ndarray__\":\"Ie5SqesxyD8hbV63EPTLP5IEDB7FTs8/xDP2XtI70T+mILdBjmbSP7NYuAIlbtE/fOEiI4GC0D/ihkYT4Z3PP24+OsZPPNA/ffPTXiqjzz9Nt/IEox7QPw==\",\"dtype\":\"float64\",\"order\":\"little\",\"shape\":[11]},\"segment_start_proba\":{\"__ndarray__\":\"DpOLv8sV0j8h7lKp6zHIPx9tXrcQ9Ms/kgQMHsVOzz/EM/Ze0jvRP6Ygt0GOZtI/s1i4AiVu0T984SIjgYLQP+KGRhPhnc8/bj46xk880D9989NeKqPPPw==\",\"dtype\":\"float64\",\"order\":\"little\",\"shape\":[11]},\"shap_value\":{\"__ndarray__\":\"e4D+ZhjK4L9/3Vzx2TPHP2ioVdTt3sI/sBBvBESPwD+5OJ4A0z23P4LmOcF6QrO/MJnqVFDmsr9Dj99QKrytvwQP9gF9NqI/vOXtTdPEob90nAmO5LeZPw==\",\"dtype\":\"float64\",\"order\":\"little\",\"shape\":[11]}},\"selected\":{\"id\":\"1184\"},\"selection_policy\":{\"id\":\"1183\"}},\"id\":\"1116\",\"type\":\"ColumnDataSource\"},{\"attributes\":{\"offset\":317.97777125943514,\"text\":\"25.19% predicted\",\"text_color\":\"#69AE35\",\"text_font_size\":\"10pt\",\"text_font_style\":\"italic\"},\"id\":\"1146\",\"type\":\"Title\"},{\"attributes\":{\"fill_color\":{\"field\":\"segment_color\"},\"line_color\":{\"field\":\"segment_color\"},\"marker\":{\"value\":\"diamond\"},\"size\":{\"value\":16},\"x\":{\"field\":\"segment_end_proba\"},\"y\":{\"field\":\"name\"}},\"id\":\"1153\",\"type\":\"Scatter\"},{\"attributes\":{\"axis_label_text_font_size\":\"10pt\",\"axis_line_color\":\"white\",\"formatter\":{\"id\":\"1136\"},\"major_label_policy\":{\"id\":\"1177\"},\"ticker\":{\"id\":\"1127\"}},\"id\":\"1126\",\"type\":\"LogAxis\"},{\"attributes\":{\"align\":\"center\",\"text\":\"Credit Default Risk Score (%)\",\"text_font_size\":\"10pt\"},\"id\":\"1162\",\"type\":\"Title\"},{\"attributes\":{\"data_source\":{\"id\":\"1116\"},\"glyph\":{\"id\":\"1148\"},\"hover_glyph\":null,\"muted_glyph\":null,\"nonselection_glyph\":{\"id\":\"1149\"},\"view\":{\"id\":\"1151\"}},\"id\":\"1150\",\"type\":\"GlyphRenderer\"},{\"attributes\":{},\"id\":\"1124\",\"type\":\"CategoricalScale\"},{\"attributes\":{\"source\":{\"id\":\"1116\"}},\"id\":\"1161\",\"type\":\"CDSView\"},{\"attributes\":{\"source\":{\"id\":\"1116\"}},\"id\":\"1151\",\"type\":\"CDSView\"},{\"attributes\":{},\"id\":\"1182\",\"type\":\"AllLabels\"},{\"attributes\":{\"data_source\":{\"id\":\"1116\"},\"glyph\":{\"id\":\"1158\"},\"hover_glyph\":null,\"muted_glyph\":null,\"nonselection_glyph\":{\"id\":\"1159\"},\"view\":{\"id\":\"1161\"}},\"id\":\"1160\",\"type\":\"GlyphRenderer\"},{\"attributes\":{\"line_color\":{\"field\":\"segment_color\"},\"line_width\":{\"value\":18},\"x0\":{\"field\":\"segment_start_proba\"},\"x1\":{\"field\":\"segment_end_proba\"},\"y0\":{\"field\":\"name\"},\"y1\":{\"field\":\"name\"}},\"id\":\"1148\",\"type\":\"Segment\"},{\"attributes\":{\"axis_line_color\":\"white\",\"formatter\":{\"id\":\"1180\"},\"major_label_policy\":{\"id\":\"1182\"},\"major_label_text_font_size\":\"10pt\",\"ticker\":{\"id\":\"1131\"}},\"id\":\"1130\",\"type\":\"CategoricalAxis\"},{\"attributes\":{\"source\":{\"id\":\"1116\"}},\"id\":\"1156\",\"type\":\"CDSView\"},{\"attributes\":{},\"id\":\"1180\",\"type\":\"CategoricalTickFormatter\"},{\"attributes\":{\"format\":\"0.0 %\"},\"id\":\"1136\",\"type\":\"NumeralTickFormatter\"},{\"attributes\":{},\"id\":\"1131\",\"type\":\"CategoricalTicker\"},{\"attributes\":{},\"id\":\"1175\",\"type\":\"Title\"},{\"attributes\":{\"data_source\":{\"id\":\"1116\"},\"glyph\":{\"id\":\"1153\"},\"hover_glyph\":null,\"muted_glyph\":null,\"nonselection_glyph\":{\"id\":\"1154\"},\"view\":{\"id\":\"1156\"}},\"id\":\"1155\",\"type\":\"GlyphRenderer\"},{\"attributes\":{\"end\":0.301765771452637,\"start\":0.1787300639649962},\"id\":\"1137\",\"type\":\"Range1d\"},{\"attributes\":{\"callback\":null,\"tooltips\":[[\"name\",\"@name\"],[\"description\",\"@description\"]]},\"id\":\"1133\",\"type\":\"HoverTool\"},{\"attributes\":{},\"id\":\"1184\",\"type\":\"Selection\"},{\"attributes\":{\"active_multi\":null,\"tools\":[{\"id\":\"1133\"}]},\"id\":\"1134\",\"type\":\"Toolbar\"},{\"attributes\":{\"line_alpha\":{\"value\":0.1},\"line_color\":{\"field\":\"segment_color\"},\"line_width\":{\"value\":18},\"x0\":{\"field\":\"segment_start_proba\"},\"x1\":{\"field\":\"segment_end_proba\"},\"y0\":{\"field\":\"name\"},\"y1\":{\"field\":\"name\"}},\"id\":\"1149\",\"type\":\"Segment\"},{\"attributes\":{\"fill_alpha\":{\"value\":0.1},\"fill_color\":{\"field\":\"segment_color\"},\"line_alpha\":{\"value\":0.1},\"line_color\":{\"field\":\"segment_color\"},\"marker\":{\"value\":\"diamond\"},\"size\":{\"value\":16},\"x\":{\"field\":\"segment_end_proba\"},\"y\":{\"field\":\"name\"}},\"id\":\"1154\",\"type\":\"Scatter\"},{\"attributes\":{},\"id\":\"1122\",\"type\":\"LogScale\"},{\"attributes\":{},\"id\":\"1179\",\"type\":\"AllLabels\"},{\"attributes\":{\"desired_num_ticks\":7,\"num_minor_ticks\":10},\"id\":\"1127\",\"type\":\"LogTicker\"},{\"attributes\":{\"axis_label_text_font_size\":\"10pt\",\"axis_line_color\":\"white\",\"formatter\":{\"id\":\"1136\"},\"major_label_policy\":{\"id\":\"1179\"},\"ticker\":{\"id\":\"1142\"},\"x_range_name\":\"probability\"},\"id\":\"1140\",\"type\":\"LogAxis\"},{\"attributes\":{\"axis\":{\"id\":\"1126\"},\"ticker\":null},\"id\":\"1129\",\"type\":\"Grid\"},{\"attributes\":{\"desired_num_ticks\":7},\"id\":\"1142\",\"type\":\"LogTicker\"},{\"attributes\":{},\"id\":\"1177\",\"type\":\"AllLabels\"},{\"attributes\":{\"axis\":{\"id\":\"1130\"},\"dimension\":1,\"ticker\":null},\"id\":\"1132\",\"type\":\"Grid\"}],\"root_ids\":[\"1117\"]},\"title\":\"Bokeh Application\",\"version\":\"2.3.3\"}};\n",
       "  var render_items = [{\"docid\":\"2db3d5fd-e10c-4eb6-9625-42ca2b148bd2\",\"root_ids\":[\"1117\"],\"roots\":{\"1117\":\"565d3e05-7a7d-4844-b597-673b5e2e375b\"}}];\n",
       "  root.Bokeh.embed.embed_items_notebook(docs_json, render_items);\n",
       "\n",
       "  }\n",
       "  if (root.Bokeh !== undefined) {\n",
       "    embed_document(root);\n",
       "  } else {\n",
       "    var attempts = 0;\n",
       "    var timer = setInterval(function(root) {\n",
       "      if (root.Bokeh !== undefined) {\n",
       "        clearInterval(timer);\n",
       "        embed_document(root);\n",
       "      } else {\n",
       "        attempts++;\n",
       "        if (attempts > 100) {\n",
       "          clearInterval(timer);\n",
       "          console.log(\"Bokeh: ERROR: Unable to run BokehJS code because BokehJS library is missing\");\n",
       "        }\n",
       "      }\n",
       "    }, 10, root)\n",
       "  }\n",
       "})(window);"
      ],
      "application/vnd.bokehjs_exec.v0+json": ""
     },
     "metadata": {
      "application/vnd.bokehjs_exec.v0+json": {
       "id": "1117"
      }
     },
     "output_type": "display_data"
    }
   ],
   "source": [
    "detailed_waterfall = visuals.WaterfallChart(\n",
    "    baseline=explanation['expected_value'],\n",
    "    shap_values=explanation['shap_values'],\n",
    "    names=explanation['feature_names'],\n",
    "    feature_values=explanation['feature_values'],\n",
    "    descriptions=explanation['feature_descriptions'],\n",
    "    max_features=10,\n",
    "    x_axis_label=x_axis_label\n",
    ")\n",
    "detailed_waterfall.show()"
   ]
  },
  {
   "cell_type": "markdown",
   "metadata": {},
   "source": [
    "We can see from the detailed waterfall chart above that not having a\n",
    "checking account with the same bank indicates a lower credit default\n",
    "risk. Since this is an influential feature for the model but the reason\n",
    "for this effect is not obvious, it may warrant further investigation. We\n",
    "can also see that using the credit to purchase a used car is associated\n",
    "with a lower credit default risk too. After this we see a number of\n",
    "features that increase the credit default risk: a credit amount of 6000\n",
    "EUR, a lack of employment and a credit duration of 36 months. Another\n",
    "potential area for investigation, would be related to the repayment\n",
    "history feature. We can see that *not* having a very poor repayment\n",
    "history is associated with a higher credit default risk score. We may\n",
    "have artifacts in the datasets that caused the model to use this feature\n",
    "in such an unintuitive way."
   ]
  },
  {
   "cell_type": "markdown",
   "metadata": {},
   "source": [
    "### Counterfactual Example\n",
    "And lastly, we switch the value of the checking account balance of the\n",
    "applicant from `no_account` to `negative`. We can then see how the\n",
    "overall prediction of the model changes, and also see the updated\n",
    "contribution of this feature. Clearly, this application has become\n",
    "substantially more risky."
   ]
  },
  {
   "cell_type": "code",
   "execution_count": 22,
   "metadata": {},
   "outputs": [
    {
     "data": {
      "text/html": [
       "\n",
       "\n",
       "\n",
       "\n",
       "\n",
       "\n",
       "  <div class=\"bk-root\" id=\"2ba7742c-f5a1-4c9d-9c8c-dcfa61b8a1f0\" data-root-id=\"1241\"></div>\n"
      ]
     },
     "metadata": {},
     "output_type": "display_data"
    },
    {
     "data": {
      "application/javascript": [
       "(function(root) {\n",
       "  function embed_document(root) {\n",
       "    \n",
       "  var docs_json = {\"1366b3fb-1d33-42c4-87b4-97341b056d23\":{\"defs\":[],\"roots\":{\"references\":[{\"attributes\":{\"above\":[{\"id\":\"1264\"},{\"id\":\"1270\"},{\"id\":\"1286\"}],\"below\":[{\"id\":\"1250\"},{\"id\":\"1268\"}],\"center\":[{\"id\":\"1253\"},{\"id\":\"1256\"},{\"id\":\"1267\"},{\"id\":\"1269\"}],\"extra_x_ranges\":{\"probability\":{\"id\":\"1261\"}},\"frame_height\":275,\"frame_width\":500,\"renderers\":[{\"id\":\"1274\"},{\"id\":\"1279\"},{\"id\":\"1284\"}],\"right\":[{\"id\":\"1254\"}],\"title\":{\"id\":\"1310\"},\"toolbar\":{\"id\":\"1258\"},\"toolbar_location\":null,\"x_range\":{\"id\":\"1261\"},\"x_scale\":{\"id\":\"1246\"},\"y_range\":{\"id\":\"1244\"},\"y_scale\":{\"id\":\"1248\"}},\"id\":\"1241\",\"subtype\":\"Figure\",\"type\":\"Plot\"},{\"attributes\":{\"axis_label_text_font_size\":\"10pt\",\"axis_line_color\":\"white\",\"formatter\":{\"id\":\"1260\"},\"major_label_policy\":{\"id\":\"1314\"},\"ticker\":{\"id\":\"1266\"},\"x_range_name\":\"probability\"},\"id\":\"1264\",\"type\":\"LogAxis\"},{\"attributes\":{\"source\":{\"id\":\"1240\"}},\"id\":\"1285\",\"type\":\"CDSView\"},{\"attributes\":{\"fill_alpha\":{\"value\":0.1},\"fill_color\":{\"value\":\"white\"},\"line_alpha\":{\"value\":0.1},\"line_color\":{\"value\":\"white\"},\"marker\":{\"value\":\"diamond\"},\"size\":{\"value\":16},\"x\":{\"field\":\"segment_start_proba\"},\"y\":{\"field\":\"name\"}},\"id\":\"1283\",\"type\":\"Scatter\"},{\"attributes\":{},\"id\":\"1310\",\"type\":\"Title\"},{\"attributes\":{\"line_color\":{\"field\":\"segment_color\"},\"line_width\":{\"value\":18},\"x0\":{\"field\":\"segment_start_proba\"},\"x1\":{\"field\":\"segment_end_proba\"},\"y0\":{\"field\":\"name\"},\"y1\":{\"field\":\"name\"}},\"id\":\"1272\",\"type\":\"Segment\"},{\"attributes\":{\"fill_alpha\":{\"value\":0.1},\"fill_color\":{\"field\":\"segment_color\"},\"line_alpha\":{\"value\":0.1},\"line_color\":{\"field\":\"segment_color\"},\"marker\":{\"value\":\"diamond\"},\"size\":{\"value\":16},\"x\":{\"field\":\"segment_end_proba\"},\"y\":{\"field\":\"name\"}},\"id\":\"1278\",\"type\":\"Scatter\"},{\"attributes\":{\"axis\":{\"id\":\"1254\"},\"dimension\":1,\"ticker\":null},\"id\":\"1256\",\"type\":\"Grid\"},{\"attributes\":{\"dimension\":\"height\",\"level\":\"underlay\",\"line_color\":\"grey\",\"line_dash\":[2,4],\"location\":0.2825803156431882},\"id\":\"1267\",\"type\":\"Span\"},{\"attributes\":{\"align\":\"center\",\"text\":\"Credit Default Risk Score (%)\",\"text_font_size\":\"10pt\"},\"id\":\"1286\",\"type\":\"Title\"},{\"attributes\":{\"callback\":null,\"tooltips\":[[\"name\",\"@name\"],[\"description\",\"@description\"]]},\"id\":\"1257\",\"type\":\"HoverTool\"},{\"attributes\":{\"offset\":426.1638114577361,\"text\":\"50.93% predicted\",\"text_color\":\"#FF5733\",\"text_font_size\":\"10pt\",\"text_font_style\":\"italic\"},\"id\":\"1270\",\"type\":\"Title\"},{\"attributes\":{\"data_source\":{\"id\":\"1240\"},\"glyph\":{\"id\":\"1282\"},\"hover_glyph\":null,\"muted_glyph\":null,\"nonselection_glyph\":{\"id\":\"1283\"},\"view\":{\"id\":\"1285\"}},\"id\":\"1284\",\"type\":\"GlyphRenderer\"},{\"attributes\":{\"axis_line_color\":\"white\",\"formatter\":{\"id\":\"1315\"},\"major_label_policy\":{\"id\":\"1317\"},\"major_label_text_font_size\":\"10pt\",\"ticker\":{\"id\":\"1255\"}},\"id\":\"1254\",\"type\":\"CategoricalAxis\"},{\"attributes\":{},\"id\":\"1314\",\"type\":\"AllLabels\"},{\"attributes\":{\"format\":\"0.0 %\"},\"id\":\"1260\",\"type\":\"NumeralTickFormatter\"},{\"attributes\":{\"data_source\":{\"id\":\"1240\"},\"glyph\":{\"id\":\"1277\"},\"hover_glyph\":null,\"muted_glyph\":null,\"nonselection_glyph\":{\"id\":\"1278\"},\"view\":{\"id\":\"1280\"}},\"id\":\"1279\",\"type\":\"GlyphRenderer\"},{\"attributes\":{},\"id\":\"1318\",\"type\":\"UnionRenderers\"},{\"attributes\":{},\"id\":\"1319\",\"type\":\"Selection\"},{\"attributes\":{\"source\":{\"id\":\"1240\"}},\"id\":\"1280\",\"type\":\"CDSView\"},{\"attributes\":{\"axis_label_text_font_size\":\"10pt\",\"axis_line_color\":\"white\",\"formatter\":{\"id\":\"1260\"},\"major_label_policy\":{\"id\":\"1312\"},\"ticker\":{\"id\":\"1251\"}},\"id\":\"1250\",\"type\":\"LogAxis\"},{\"attributes\":{\"active_multi\":null,\"tools\":[{\"id\":\"1257\"}]},\"id\":\"1258\",\"type\":\"Toolbar\"},{\"attributes\":{},\"id\":\"1317\",\"type\":\"AllLabels\"},{\"attributes\":{\"offset\":50.00000000000008,\"text\":\"28.26% baseline\",\"text_color\":\"grey\",\"text_font_size\":\"10pt\",\"text_font_style\":\"italic\"},\"id\":\"1268\",\"type\":\"Title\"},{\"attributes\":{},\"id\":\"1255\",\"type\":\"CategoricalTicker\"},{\"attributes\":{\"data_source\":{\"id\":\"1240\"},\"glyph\":{\"id\":\"1272\"},\"hover_glyph\":null,\"muted_glyph\":null,\"nonselection_glyph\":{\"id\":\"1273\"},\"view\":{\"id\":\"1275\"}},\"id\":\"1274\",\"type\":\"GlyphRenderer\"},{\"attributes\":{\"desired_num_ticks\":7,\"num_minor_ticks\":10},\"id\":\"1251\",\"type\":\"LogTicker\"},{\"attributes\":{},\"id\":\"1312\",\"type\":\"AllLabels\"},{\"attributes\":{\"data\":{\"descriptions\":[\"Customer's checking account balance is 'no_account' if value is 1.0.\",\"Amount of time the credit is requested for (in months).\",\"Customer's checking account balance is 'negative' if value is 1.0.\",\"Customer's savings account balance is 'low' if value is 1.0.\",\"Quality of the customer's repayment history is 'very_poor' if value is 1.0.\",\"Customer's reason for requiring credit is 'used_car' if value is 1.0.\",\"Amount of time the customer has been employed at their current employer (in years).\",\"Amount of money requested as part of credit application (in EUR).\",\"Customer's reason for requiring credit is 'new_car' if value is 1.0.\",\"Customer's reason for requiring credit is 'electronics' if value is 1.0.\",\"All other features combined.\"],\"name\":[\"finance__accounts__checking__balance__no_account = 0.0\",\"credit__duration = 36.0\",\"finance__accounts__checking__balance__negative = 1.0\",\"finance__accounts__savings__balance__low = 1.0\",\"finance__repayment_history__very_poor = 0.0\",\"credit__purpose__used_car = 1.0\",\"employment__duration = 0.0\",\"credit__amount = 6000.0\",\"credit__purpose__new_car = 0.0\",\"credit__purpose__electronics = 0.0\",\"other_features\"],\"segment_color\":[\"#FF5733\",\"#FF5733\",\"#FF5733\",\"#FF5733\",\"#FF5733\",\"#69AE35\",\"#FF5733\",\"#69AE35\",\"#69AE35\",\"#FF5733\",\"#FF5733\"],\"segment_end_proba\":{\"__ndarray__\":\"alvhYZT/1j8WBxiv0YXaPx87geRQZ90/VCXQF4+c3z+e1sq9KcrgP6tPKqMgM+A/a/HLm4/B4D8xozylnUfgP+u87PmH398/OAYi/5w44D/cnbZcjkzgPw==\",\"dtype\":\"float64\",\"order\":\"little\",\"shape\":[11]},\"segment_start_proba\":{\"__ndarray__\":\"DpOLv8sV0j9rW+FhlP/WPxYHGK/Rhdo/HzuB5FBn3T9UJdAXj5zfP57Wyr0pyuA/qk8qoyAz4D9r8cubj8HgPzGjPKWdR+A/6rzs+Yff3z84BiL/nDjgPw==\",\"dtype\":\"float64\",\"order\":\"little\",\"shape\":[11]},\"shap_value\":{\"__ndarray__\":\"6Xq8v+Of1j8Byi1FJcHNP/5PvSLGb8c/vQS3uZ61wT/s/lQAnYG/PzCZ6lRQ5rK/pYEbPGfSsT+GMa/fQYWuv8K7eQzj9qW/BA/2AX02oj9+3PCiufKDPw==\",\"dtype\":\"float64\",\"order\":\"little\",\"shape\":[11]}},\"selected\":{\"id\":\"1319\"},\"selection_policy\":{\"id\":\"1318\"}},\"id\":\"1240\",\"type\":\"ColumnDataSource\"},{\"attributes\":{},\"id\":\"1246\",\"type\":\"LogScale\"},{\"attributes\":{\"factors\":[\"finance__accounts__checking__balance__no_account = 0.0\",\"credit__duration = 36.0\",\"finance__accounts__checking__balance__negative = 1.0\",\"finance__accounts__savings__balance__low = 1.0\",\"finance__repayment_history__very_poor = 0.0\",\"credit__purpose__used_car = 1.0\",\"employment__duration = 0.0\",\"credit__amount = 6000.0\",\"credit__purpose__new_car = 0.0\",\"credit__purpose__electronics = 0.0\",\"other_features\"]},\"id\":\"1244\",\"type\":\"FactorRange\"},{\"attributes\":{\"source\":{\"id\":\"1240\"}},\"id\":\"1275\",\"type\":\"CDSView\"},{\"attributes\":{\"line_alpha\":{\"value\":0.1},\"line_color\":{\"field\":\"segment_color\"},\"line_width\":{\"value\":18},\"x0\":{\"field\":\"segment_start_proba\"},\"x1\":{\"field\":\"segment_end_proba\"},\"y0\":{\"field\":\"name\"},\"y1\":{\"field\":\"name\"}},\"id\":\"1273\",\"type\":\"Segment\"},{\"attributes\":{\"fill_color\":{\"value\":\"white\"},\"line_color\":{\"value\":\"white\"},\"marker\":{\"value\":\"diamond\"},\"size\":{\"value\":16},\"x\":{\"field\":\"segment_start_proba\"},\"y\":{\"field\":\"name\"}},\"id\":\"1282\",\"type\":\"Scatter\"},{\"attributes\":{\"axis\":{\"id\":\"1250\"},\"ticker\":null},\"id\":\"1253\",\"type\":\"Grid\"},{\"attributes\":{\"end\":0.5566566415944486,\"start\":0.2572120908453189},\"id\":\"1261\",\"type\":\"Range1d\"},{\"attributes\":{},\"id\":\"1248\",\"type\":\"CategoricalScale\"},{\"attributes\":{},\"id\":\"1315\",\"type\":\"CategoricalTickFormatter\"},{\"attributes\":{\"dimension\":\"height\",\"level\":\"underlay\",\"line_color\":\"#FF5733\",\"line_dash\":[2,4],\"location\":0.5093452273185295},\"id\":\"1269\",\"type\":\"Span\"},{\"attributes\":{\"desired_num_ticks\":7},\"id\":\"1266\",\"type\":\"LogTicker\"},{\"attributes\":{\"fill_color\":{\"field\":\"segment_color\"},\"line_color\":{\"field\":\"segment_color\"},\"marker\":{\"value\":\"diamond\"},\"size\":{\"value\":16},\"x\":{\"field\":\"segment_end_proba\"},\"y\":{\"field\":\"name\"}},\"id\":\"1277\",\"type\":\"Scatter\"}],\"root_ids\":[\"1241\"]},\"title\":\"Bokeh Application\",\"version\":\"2.3.3\"}};\n",
       "  var render_items = [{\"docid\":\"1366b3fb-1d33-42c4-87b4-97341b056d23\",\"root_ids\":[\"1241\"],\"roots\":{\"1241\":\"2ba7742c-f5a1-4c9d-9c8c-dcfa61b8a1f0\"}}];\n",
       "  root.Bokeh.embed.embed_items_notebook(docs_json, render_items);\n",
       "\n",
       "  }\n",
       "  if (root.Bokeh !== undefined) {\n",
       "    embed_document(root);\n",
       "  } else {\n",
       "    var attempts = 0;\n",
       "    var timer = setInterval(function(root) {\n",
       "      if (root.Bokeh !== undefined) {\n",
       "        clearInterval(timer);\n",
       "        embed_document(root);\n",
       "      } else {\n",
       "        attempts++;\n",
       "        if (attempts > 100) {\n",
       "          clearInterval(timer);\n",
       "          console.log(\"Bokeh: ERROR: Unable to run BokehJS code because BokehJS library is missing\");\n",
       "        }\n",
       "      }\n",
       "    }, 10, root)\n",
       "  }\n",
       "})(window);"
      ],
      "application/vnd.bokehjs_exec.v0+json": ""
     },
     "metadata": {
      "application/vnd.bokehjs_exec.v0+json": {
       "id": "1241"
      }
     },
     "output_type": "display_data"
    }
   ],
   "source": [
    "counter_sample = dict(sample)\n",
    "counter_sample['finance__accounts__checking__balance'] = 'negative'  # from 'no_account'\n",
    "counter_output = explainer.predict(counter_sample)\n",
    "counter_explanation = visuals.detailed_explanation(counter_output)\n",
    "visuals.WaterfallChart(\n",
    "    baseline=counter_explanation['expected_value'],\n",
    "    shap_values=counter_explanation['shap_values'],\n",
    "    names=counter_explanation['feature_names'],\n",
    "    feature_values=counter_explanation['feature_values'],\n",
    "    descriptions=counter_explanation['feature_descriptions'],\n",
    "    max_features=10,\n",
    "    x_axis_label=x_axis_label,\n",
    ").show()"
   ]
  },
  {
   "cell_type": "markdown",
   "metadata": {},
   "source": [
    "## Clean Up\n",
    "\n",
    "When you've finished with the explainer endpoint (and associated\n",
    "endpoint-config), make sure that you delete it to avoid accidental\n",
    "charges."
   ]
  },
  {
   "cell_type": "code",
   "execution_count": 23,
   "metadata": {},
   "outputs": [],
   "source": [
    "# sagemaker_client.delete_endpoint(EndpointName=explainer_name)"
   ]
  },
  {
   "cell_type": "markdown",
   "metadata": {},
   "source": [
    "## Next Stage\n",
    "\n",
    "Up next we'll use Amazon SageMaker Batch Transform to obtain explanations\n",
    "for our complete dataset.\n",
    "\n",
    "[Click here to continue.](./4_batch_transform.ipynb)"
   ]
  },
  {
   "cell_type": "code",
   "execution_count": null,
   "metadata": {},
   "outputs": [],
   "source": []
  }
 ],
 "metadata": {
  "instance_type": "ml.t3.medium",
  "jupytext": {
   "cell_metadata_filter": "-all",
   "main_language": "python",
   "notebook_metadata_filter": "-all"
  },
  "kernelspec": {
   "display_name": "Python 3 (SageMaker JumpStart Data Science 1.0)",
   "language": "python",
   "name": "python3__SAGEMAKER_INTERNAL__arn:aws:sagemaker:us-east-1:793310587911:image/sagemaker-jumpstart-data-science-1.0"
  },
  "language_info": {
   "codemirror_mode": {
    "name": "ipython",
    "version": 3
   },
   "file_extension": ".py",
   "mimetype": "text/x-python",
   "name": "python",
   "nbconvert_exporter": "python",
   "pygments_lexer": "ipython3",
   "version": "3.7.10"
  }
 },
 "nbformat": 4,
 "nbformat_minor": 4
}
